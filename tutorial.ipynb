{
 "cells": [
  {
   "cell_type": "markdown",
   "metadata": {
    "collapsed": true
   },
   "source": [
    "# [KDD Cup|Humanities Track Tutorial](https://compete.hexagon-ml.com/tutorial/kdd-cuphumanities-track-tutorial/)\n",
    "This notebook by Oetbent\n",
    "\n",
    "This Tutorial exposes participants on approaches to learn a sequence of intervention based decisions (Actions) from a malaria modelling environment. We'll introduce notions of State, Action and Reward, in order to descibe some approaches to this challenge."
   ]
  },
  {
   "cell_type": "markdown",
   "metadata": {},
   "source": [
    "### 1. State\n",
    "\n",
    "Observations for the challenge models occur over a 5 year timeframe and each year of this timeframe may be considered as the State of the system. With the possiblity to take one Action for each State. While it should also be noted this temporal State transition is fixed and as such not dependant on the Action taken.\n",
    "\n",
    "$S \\in \\{1,2,3,4,5\\}$\n"
   ]
  },
  {
   "cell_type": "markdown",
   "metadata": {},
   "source": [
    "### 2.Action\n",
    "Consider Actions as a combination of only two possibile interventions i.e. Insecticide spraying(IRS) and distributing bed nets(ITN) based on our model description. $a_{ITN} \\in [0,1]$ and $a_{IRS} \\in [0,1]$. Action values between O and 1 describe a coverage range of the intervention for a simulated human population.\n",
    "\n",
    "$A_S = [a_{ITN},a_{IRS}]$"
   ]
  },
  {
   "cell_type": "markdown",
   "metadata": {},
   "source": [
    "### 3. Reward\n",
    "A reward function determines a Stochastic Reward for a Policy over the entire episode, this function acts to determine the Health outcomes per unit cost for the interventions implementated in the policy. In order to have a notion of goodness maximising the Reward we negate this value.\n",
    "\n",
    "$R_{\\pi} \\in (- \\infty,\\infty)$\n",
    "\n",
    "![](image/reward.png)"
   ]
  },
  {
   "cell_type": "markdown",
   "metadata": {},
   "source": [
    "### Policy\n",
    "Therefore a Policy($\\pi$) for this challenge consists of a temporal sequence of Actions, defined in the code as:"
   ]
  },
  {
   "cell_type": "code",
   "execution_count": 8,
   "metadata": {},
   "outputs": [
    {
     "name": "stdout",
     "output_type": "stream",
     "text": [
      "[{'1': [0.55, 0.7], '2': [0, 0], '3': [0, 0], '4': [0, 0], '5': [0, 0]}]\n"
     ]
    }
   ],
   "source": [
    "policies = []\n",
    "policy = {}\n",
    "\n",
    "policy['1']=[.55,.7]\n",
    "policy['2']=[0,0]\n",
    "policy['3']=[0,0]\n",
    "policy['4']=[0,0]\n",
    "policy['5']=[0,0]\n",
    "\n",
    "policies.append(policy)\n",
    "print(policies)"
   ]
  },
  {
   "cell_type": "code",
   "execution_count": 9,
   "metadata": {},
   "outputs": [],
   "source": [
    "import os\n",
    "from sys import exit, exc_info, argv\n",
    "import random\n",
    "import numpy as np\n",
    "import pandas as pd"
   ]
  },
  {
   "cell_type": "code",
   "execution_count": 10,
   "metadata": {},
   "outputs": [],
   "source": [
    "from netsapi.challenge import *"
   ]
  },
  {
   "cell_type": "markdown",
   "metadata": {},
   "source": [
    "## Evaluating Policies as a Stochastic Multi-armed Bandit\n",
    "#### Evaluating Policies as a Sequence of Actions :\n",
    "In this section, we run several experiments with the same Policy and visualize the Rewards to indicate the stochasticity with MatPlotLib visualisations\n",
    "#### Evaluating a single known Policy\n",
    "Let's start with a current intervention campaign 55% ITN and 70% IRS coverage and obtain our reward."
   ]
  },
  {
   "cell_type": "code",
   "execution_count": 11,
   "metadata": {},
   "outputs": [
    {
     "name": "stdout",
     "output_type": "stream",
     "text": [
      "[0.55, 0.7]\n",
      "100  Evaluations Remaining\n",
      "12.445943665240458\n"
     ]
    }
   ],
   "source": [
    "print(policies[0]['1']) #Action in Year 1\n",
    "\n",
    "env = ChallengeEnvironment() #Initialise Challenge Environment\n",
    "reward = env.evaluateReward(np.asarray(policies[0]['1'])) #This has been negated and any reward should be maximised\n",
    "\n",
    "print(reward)"
   ]
  },
  {
   "cell_type": "markdown",
   "metadata": {},
   "source": [
    "#### Update to Sequential Decision Environment"
   ]
  },
  {
   "cell_type": "code",
   "execution_count": 16,
   "metadata": {},
   "outputs": [
    {
     "data": {
      "text/plain": [
       "5"
      ]
     },
     "execution_count": 16,
     "metadata": {},
     "output_type": "execute_result"
    }
   ],
   "source": [
    "len(policies[0])"
   ]
  },
  {
   "cell_type": "code",
   "execution_count": 15,
   "metadata": {},
   "outputs": [
    {
     "name": "stdout",
     "output_type": "stream",
     "text": [
      "105  Evaluations Remaining\n",
      "11.671068641508104\n"
     ]
    }
   ],
   "source": [
    "envSeqDec = ChallengeSeqDecEnvironment() #Initialise a New Challenge Environment to post entire policy\n",
    "reward = envSeqDec.evaluatePolicy(policies[0]) #Action in Year 1 only\n",
    "\n",
    "print(reward)"
   ]
  },
  {
   "cell_type": "markdown",
   "metadata": {},
   "source": [
    "#### Observing Stochastic Rewards for a single policy\n",
    "\n",
    "Let's repeat evaluations for the policy above and visualise the rewards as a boxplot (MatPlotLib may be required but you are free to visualise the data how you see fit)"
   ]
  },
  {
   "cell_type": "code",
   "execution_count": 17,
   "metadata": {},
   "outputs": [
    {
     "name": "stdout",
     "output_type": "stream",
     "text": [
      "100  Evaluations Remaining\n",
      "95  Evaluations Remaining\n",
      "90  Evaluations Remaining\n",
      "85  Evaluations Remaining\n",
      "80  Evaluations Remaining\n",
      "75  Evaluations Remaining\n",
      "70  Evaluations Remaining\n",
      "65  Evaluations Remaining\n",
      "60  Evaluations Remaining\n",
      "55  Evaluations Remaining\n",
      "[11.67106864 12.42047633 12.33634885 13.66359014 11.47268793 13.10637832\n",
      " 13.69842717 11.97039387 13.17232769 11.63599918 12.95242353]\n"
     ]
    }
   ],
   "source": [
    "rewards = [reward]\n",
    "for i in range(10):   \n",
    "    reward = envSeqDec.evaluatePolicy(policies[0])\n",
    "    rewards = np.append(rewards, reward)\n",
    "    \n",
    "print(rewards)"
   ]
  },
  {
   "cell_type": "code",
   "execution_count": 20,
   "metadata": {},
   "outputs": [
    {
     "data": {
      "image/png": "[encoded data removed]",
      "text/plain": [
       "<Figure size 432x288 with 1 Axes>"
      ]
     },
     "metadata": {
      "needs_background": "light"
     },
     "output_type": "display_data"
    }
   ],
   "source": [
    "%matplotlib inline\n",
    "import matplotlib\n",
    "import matplotlib.pyplot as plt\n",
    "\n",
    "plt.boxplot(rewards)\n",
    "plt.xlabel('Action [ITN,IRS]')\n",
    "plt.ylabel('Rewards')\n",
    "\n",
    "plt.show()"
   ]
  },
  {
   "cell_type": "markdown",
   "metadata": {},
   "source": [
    "#### Evaluating Policies as a Sequence of Actions\n",
    "\n",
    "High performing Policies may also be found through framing this as a sequential decision making problem and so this may be extended to the reinforcement learning paradigm as described above. Rewards can be returned for each state, action pair. Observations are the simplest case and only the year in which the decision is being made, rewards may be observed based on an action taken in each state in the sequence."
   ]
  },
  {
   "cell_type": "code",
   "execution_count": 21,
   "metadata": {},
   "outputs": [
    {
     "name": "stdout",
     "output_type": "stream",
     "text": [
      "50  Evaluations Remaining\n",
      "reward 106.9431245798812\n",
      "49  Evaluations Remaining\n",
      "reward -0.06803372864798751\n",
      "48  Evaluations Remaining\n",
      "reward -0.14328386438833762\n",
      "47  Evaluations Remaining\n",
      "reward -0.254236268164751\n",
      "46  Evaluations Remaining\n",
      "reward -1.321089717681929\n",
      "policy {'1': [0.0, 1.0], '2': [0.12861708692009788, 0.9916943304023614], '3': [0.06798125744018745, 0.9976865984049555], '4': [0.14279409144721586, 0.98975241724775], '5': [0.25150629987585954, 0.9678556613063511]}\n",
      "episodic_reward 105.1564810009982\n"
     ]
    }
   ],
   "source": [
    "episode_count = 1 \n",
    "\n",
    "reward = 0\n",
    "for i in range(episode_count):\n",
    "    envSeqDec.reset()\n",
    "    episodic_reward = 0\n",
    "\n",
    "    while True:\n",
    "        \n",
    "        #Agent Training Code here\n",
    "        action = [abs(np.sin(reward)),abs(np.cos(reward))] \n",
    "        envSeqDec.policy[str(envSeqDec.state)] = action \n",
    "        \n",
    "        ob, reward, done, _ = envSeqDec.evaluateAction(action)\n",
    "        print('reward',reward)\n",
    "        episodic_reward += reward\n",
    "        \n",
    "        if done:\n",
    "            break\n",
    "    \n",
    "    policies.append(envSeqDec.policy)\n",
    "    print('policy', envSeqDec.policy)\n",
    "    print('episodic_reward', episodic_reward)"
   ]
  },
  {
   "cell_type": "markdown",
   "metadata": {},
   "source": [
    "## Generating a Submission file\n",
    "#### Description of Submission Process\n",
    "Please do not alter the methods outside of the generate() method. This code is open for your own Agent implementation. The submission file to be scored and generated is based on 10 runs of 20 episodes in which a policy of 5 actions is run, this meets the 1000 evaluations constraint of the initialised environment. When you package your code for evaluation it will be required that you maintain this style."
   ]
  },
  {
   "cell_type": "code",
   "execution_count": 1,
   "metadata": {},
   "outputs": [],
   "source": [
    "from sys import exit, exc_info, argv\n",
    "import numpy as np\n",
    "import pandas as pd\n",
    "\n",
    "from netsapi.challenge import *\n",
    "\n",
    "class CustomAgent:\n",
    "    def __init__(self, environment):\n",
    "        self.environment = environment\n",
    "\n",
    "    def generate(self):\n",
    "        best_policy = None\n",
    "        best_reward = -float('Inf')\n",
    "        candidates = []\n",
    "        try:\n",
    "            # Agents should make use of 20 episodes in each training run, if making sequential decisions\n",
    "            for i in range(20):\n",
    "                self.environment.reset()\n",
    "                policy = {}\n",
    "                for j in range(5): #episode length\n",
    "                    policy[str(j+1)]=[0,1]\n",
    "                candidates.append(policy)\n",
    "                \n",
    "            rewards = self.environment.evaluatePolicy(candidates)\n",
    "            best_policy = candidates[np.argmax(rewards)]\n",
    "            best_reward = rewards[np.argmax(rewards)]\n",
    "        \n",
    "        except (KeyboardInterrupt, SystemExit):\n",
    "            print(exc_info())\n",
    "            \n",
    "        return best_policy, best_reward"
   ]
  },
  {
   "cell_type": "code",
   "execution_count": 2,
   "metadata": {},
   "outputs": [
    {
     "name": "stdout",
     "output_type": "stream",
     "text": [
      "105  Evaluations Remaining\n",
      "105  Evaluations Remaining\n",
      "105  Evaluations Remaining\n",
      "105  Evaluations Remaining\n",
      "105  Evaluations Remaining\n",
      "105  Evaluations Remaining\n",
      "105  Evaluations Remaining\n",
      "105  Evaluations Remaining\n",
      "105  Evaluations Remaining\n",
      "105  Evaluations Remaining\n",
      "110.84030965146971\n"
     ]
    },
    {
     "data": {
      "text/plain": [
       "<netsapi.challenge.EvaluateChallengeSubmission at 0x26889a9e710>"
      ]
     },
     "execution_count": 2,
     "metadata": {},
     "output_type": "execute_result"
    }
   ],
   "source": [
    "EvaluateChallengeSubmission(ChallengeSeqDecEnvironment, CustomAgent, \"tutorial.csv\")"
   ]
  },
  {
   "cell_type": "code",
   "execution_count": null,
   "metadata": {},
   "outputs": [],
   "source": []
  },
  {
   "cell_type": "code",
   "execution_count": null,
   "metadata": {},
   "outputs": [],
   "source": []
  },
  {
   "cell_type": "code",
   "execution_count": null,
   "metadata": {},
   "outputs": [],
   "source": []
  }
 ],
 "metadata": {
  "kernelspec": {
   "display_name": "Python 3",
   "language": "python",
   "name": "python3"
  },
  "language_info": {
   "codemirror_mode": {
    "name": "ipython",
    "version": 3
   },
   "file_extension": ".py",
   "mimetype": "text/x-python",
   "name": "python",
   "nbconvert_exporter": "python",
   "pygments_lexer": "ipython3",
   "version": "3.6.8"
  }
 },
 "nbformat": 4,
 "nbformat_minor": 1
}
